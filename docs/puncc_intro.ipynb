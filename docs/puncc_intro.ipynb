{
 "cells": [
  {
   "attachments": {},
   "cell_type": "markdown",
   "id": "c3df483a",
   "metadata": {},
   "source": [
    "# 👋 Welcome to the introduction tutorial\n",
    "\n",
    "In this tutorial, we will guide you, while using *puncc*, throughout the process of uncertainty quantification in two prediction tasks. By the end of this notebook, you will be able to wrap your own models into conformal predictors and analyze their performance. \n",
    "\n",
    "**Table of contents**\n",
    "\n",
    "- [📈 Conformal Regression](#cr)\n",
    "    - [💾 Diabetes Dataset](#cr-data)\n",
    "    - [🔮 Predicton Model](#cr-pm)\n",
    "    - [⚙️ Conformal Prediction](#cr-cp)\n",
    "- [📊 Conformal Classification](#cc)\n",
    "    - [💾 MNIST Dataset](#cc-data)\n",
    "    - [🔮 Predicton Model](#cc-pm)\n",
    "    - [⚙️ Conformal Prediction](#cc-cp)\n",
    "\n",
    "\n",
    "**Links**\n",
    "- [<img src=\"https://github.githubassets.com/images/icons/emoji/octocat.png\" width=20> Github](https://github.com/deel-ai/puncc)\n",
    "- [📘 Documentation](https://deel-ai.github.io/puncc/index.html)"
   ]
  },
  {
   "attachments": {},
   "cell_type": "markdown",
   "id": "cf737b0b",
   "metadata": {},
   "source": [
    "## 📈 Conformal Regression  <a class=\"anchor\" id=\"cr\"></a>\n",
    "\n",
    "Let’s consider a simple regression problem on diabetes data provided in Scikit-learn. We want to evaluate the uncertainty associated with the prediction using inductive (or split) conformal prediction."
   ]
  },
  {
   "attachments": {},
   "cell_type": "markdown",
   "id": "3ead5e23",
   "metadata": {},
   "source": [
    "### 💾 Diabetes Dataset <a class=\"anchor\" id=\"cr-data\"></a>\n",
    "\n",
    "The dataset contains information about 442 diabetes patients. The goal is predict from physiological variables a quantitative measure of disease progression in one year.\n",
    "- There are ten standardized features corresponding to the age, sex, body mass index, average blood pressure, and six blood serum measurements. \n",
    "- The target is the measure of diabetes progression during one year for each patient.\n",
    "\n",
    "For more information, check the official [documentation](https://www4.stat.ncsu.edu/~boos/var.select/diabetes.html)."
   ]
  },
  {
   "cell_type": "code",
   "execution_count": 1,
   "id": "204798bd",
   "metadata": {},
   "outputs": [
    {
     "name": "stdout",
     "output_type": "stream",
     "text": [
      "Features shape: (442, 10)\n",
      "Target's shape: (442,)\n"
     ]
    }
   ],
   "source": [
    "from sklearn import datasets\n",
    "\n",
    "# Load the diabetes dataset\n",
    "diabetes_X, diabetes_y = datasets.load_diabetes(return_X_y=True)\n",
    "\n",
    "print(f\"Features shape: {diabetes_X.shape}\")\n",
    "print(f\"Target's shape: {diabetes_y.shape}\")"
   ]
  },
  {
   "attachments": {},
   "cell_type": "markdown",
   "id": "4452968b",
   "metadata": {},
   "source": [
    "From all the features, we want our model to capture only the link between body mass index and the evolution of the disease. "
   ]
  },
  {
   "cell_type": "code",
   "execution_count": 2,
   "id": "83193b03",
   "metadata": {},
   "outputs": [],
   "source": [
    "import numpy as np \n",
    "\n",
    "# Use only BMI feature\n",
    "diabetes_X = diabetes_X[:, 2, np.newaxis]"
   ]
  },
  {
   "attachments": {},
   "cell_type": "markdown",
   "id": "6abfd9c0",
   "metadata": {},
   "source": [
    "By construction, data are independent and identically distributed (i.i.d).\n",
    "\n",
    "Great, we fullfill the prerequisites to apply conformal prediction 👏 !\n",
    "\n",
    "The next step is spliting the data into three subsets:\n",
    "\n",
    "* Fit subset ${\\cal D_{fit}}$ to train the model.\n",
    "* Calibration subset ${\\cal D_{calib}}$ on which nonconformity scores are\n",
    "  computed.\n",
    "* Test subset ${\\cal D_{test}}$ on which the prediction intervals are\n",
    "  estimated.\n",
    "\n",
    "---\n",
    "**NOTE**\n",
    "\n",
    "   Rigorously, for the probabilistic guarantee to hold, the calibration subset\n",
    "   needs to be resampled for each new example in the test set.\n",
    "\n",
    "---\n",
    "\n",
    "\n",
    "The following code implements the aforementioned steps:"
   ]
  },
  {
   "cell_type": "code",
   "execution_count": 3,
   "id": "a56b3087",
   "metadata": {},
   "outputs": [],
   "source": [
    "# Split the data into training/testing sets\n",
    "X_train = diabetes_X[:-100]\n",
    "X_test = diabetes_X[-100:]\n",
    "\n",
    "# Split the targets into training/testing sets\n",
    "y_train = diabetes_y[:-100]\n",
    "y_test = diabetes_y[-100:]\n",
    "\n",
    "# Split fit and calibration data\n",
    "X_fit, X_calib = X_train[:-100], X_train[-100:]\n",
    "y_fit, y_calib = y_train[:-100], y_train[-100:]"
   ]
  },
  {
   "attachments": {},
   "cell_type": "markdown",
   "id": "8697ae99",
   "metadata": {},
   "source": [
    "### 🔮 Prediction Model <a class=\"anchor\" id=\"cr-pm\"></a>\n",
    "\n",
    "We consider a simple linear regression model from\n",
    "[scikit-learn regression module](https://scikit-learn.org/stable/modules/linear_model.html),\n",
    "to be trained later on ${\\cal D_{fit}}$:"
   ]
  },
  {
   "cell_type": "code",
   "execution_count": 4,
   "id": "f9ce6745",
   "metadata": {},
   "outputs": [],
   "source": [
    "from sklearn import linear_model\n",
    "\n",
    "# Create linear regression model\n",
    "lin_reg_model = linear_model.LinearRegression()"
   ]
  },
  {
   "attachments": {},
   "cell_type": "markdown",
   "id": "8b7b5e72",
   "metadata": {},
   "source": [
    "Such model needs to be wrapped in a wrapper provided in the module deel.puncc.api.prediction. The wrapper makes it possible to use various models from different ML/DL libraries such as Scikit-learn, Keras or XGBoost. For more information about model wrappers and supported ML/DL libraries, we refere the user to the documentation.\n",
    "\n",
    "For a linear regression from scikit-learn, we use deel.puncc.api.prediction.BasePredictor as follows:"
   ]
  },
  {
   "cell_type": "code",
   "execution_count": 5,
   "id": "24b7688e",
   "metadata": {},
   "outputs": [],
   "source": [
    "from deel.puncc.api.prediction import BasePredictor\n",
    "\n",
    "# Create a predictor to wrap the linear regression model defined earlier\n",
    "# The argument `is_trained` is set to False such that the linear model needs to be\n",
    "# trained before the calibration. You can initialize it to True if the model is\n",
    "# already trained and you want to save time.\n",
    "lin_reg_predictor =  BasePredictor(lin_reg_model, is_trained=False)"
   ]
  },
  {
   "attachments": {},
   "cell_type": "markdown",
   "id": "16d0cd2e",
   "metadata": {},
   "source": [
    "### ⚙️ Conformal Prediction <a class=\"anchor\" id=\"cr-cp\"></a>\n",
    "\n",
    "For this example, the prediction intervals are obtained throught the split\n",
    "conformal prediction method provided by the class\n",
    "`deel.puncc.regression.SplitCP`. Other methods are presented\n",
    "in the [documentation](https://deel-ai.github.io/puncc/regression.html)."
   ]
  },
  {
   "cell_type": "code",
   "execution_count": 6,
   "id": "c10000a1",
   "metadata": {},
   "outputs": [],
   "source": [
    "from deel.puncc.regression import SplitCP\n",
    "\n",
    "# Coverage target is 1-alpha = 90%\n",
    "alpha=.1\n",
    "\n",
    "# Instanciate the split cp wrapper around the linear predictor.\n",
    "split_cp = SplitCP(lin_reg_predictor)\n",
    "\n",
    "# Train model (if argument `is_train` is False) on the fitting dataset and\n",
    "# compute the residuals on the calibration dataset. \n",
    "split_cp.fit(X_fit=X_fit, y_fit=y_fit, X_calib=X_calib, y_calib=y_calib)\n",
    "\n",
    "## Alternatively, we can randomly select the fit/calib subsets as below \n",
    "# split_cp.fit(X=X_train, y=y_train, fit_ratio=.8)\n",
    "\n",
    "# The `predict` returns the output of the linear model `y_pred` and\n",
    "# the calibrated interval [`y_pred_lower`, `y_pred_upper`].\n",
    "y_pred, y_pred_lower, y_pred_upper = split_cp.predict(X_test, alpha=alpha)"
   ]
  },
  {
   "attachments": {},
   "cell_type": "markdown",
   "id": "1c00d9bf",
   "metadata": {},
   "source": [
    "The library provides several metrics in `deel.puncc.metrics` to evaluate the conformalization procedure. Below, we compute the average empirical coverage and the average empirical width of the prediction intervals on the test examples:"
   ]
  },
  {
   "cell_type": "code",
   "execution_count": 7,
   "id": "81f70d7d",
   "metadata": {},
   "outputs": [
    {
     "name": "stdout",
     "output_type": "stream",
     "text": [
      "Marginal coverage: 0.95\n",
      "Average width: 211.38\n"
     ]
    }
   ],
   "source": [
    "from deel.puncc import metrics\n",
    "\n",
    "coverage = metrics.regression_mean_coverage(y_test, y_pred_lower, y_pred_upper)\n",
    "width = metrics.regression_sharpness(y_pred_lower=y_pred_lower,\n",
    "                                    y_pred_upper=y_pred_upper)\n",
    "print(f\"Marginal coverage: {coverage:.2f}\")\n",
    "print(f\"Average width: {width:.2f}\")"
   ]
  },
  {
   "attachments": {},
   "cell_type": "markdown",
   "id": "d0478852",
   "metadata": {},
   "source": [
    "In addition, puncc provides plotting tools in `deel.puncc.plotting` to visualize the prediction intervals and whether or not the observations are covered:"
   ]
  },
  {
   "cell_type": "code",
   "execution_count": 8,
   "id": "4feb2d09",
   "metadata": {},
   "outputs": [
    {
     "data": {
      "image/png": "[encoded data removed]",
      "text/plain": [
       "<Figure size 1500x600 with 1 Axes>"
      ]
     },
     "metadata": {},
     "output_type": "display_data"
    }
   ],
   "source": [
    "from deel.puncc.plotting import plot_prediction_intervals\n",
    "\n",
    "# Figure of the prediction bands\n",
    "\n",
    "ax = plot_prediction_intervals(\n",
    "        X = X_test[:,0],\n",
    "        y_true=y_test,\n",
    "        y_pred=y_pred,\n",
    "        y_pred_lower=y_pred_lower,\n",
    "        y_pred_upper=y_pred_upper,\n",
    "        loc=\"upper left\")\n",
    "\n",
    "_ = ax.set_xlabel(\"Body Mass Index (standardized)\")\n",
    "_ = ax.set_ylabel(\"Diabetes progression in one year\")"
   ]
  },
  {
   "attachments": {},
   "cell_type": "markdown",
   "id": "cba4c9c2",
   "metadata": {},
   "source": [
    "## 📊 Conformal Classification"
   ]
  },
  {
   "attachments": {},
   "cell_type": "markdown",
   "id": "30047277",
   "metadata": {},
   "source": [
    "Let’s tackle the classic problem of [MNIST handwritten digits](https://en.wikipedia.org/wiki/MNIST_database) classification. The goal is to evaluate through conformal prediction the uncertainty associated with a predictive classifier."
   ]
  },
  {
   "attachments": {},
   "cell_type": "markdown",
   "id": "3c7d25b1",
   "metadata": {},
   "source": [
    "### 💾 MNIST Dataset <a class=\"anchor\" id=\"cc-data\"></a>\n",
    "\n",
    "MNIST dataset contains a large number of $28\\times28$ digit images to which are associated digit labels. As the data generating process is considered i.i.d (check [this post](https://newsletter.altdeep.ai/p/the-story-of-mnist-and-the-perils)), conformal prediction is applicable 👏.\n",
    "\n",
    "We split the data into three subsets:\n",
    "\n",
    "* Fit subset ${\\cal D_{fit}}$ to train the model.\n",
    "* Calibration subset ${\\cal D_{calib}}$ on which nonconformity scores are computed.\n",
    "* Test subset ${\\cal D_{test}}$ on which the prediction sets are estimated.\n",
    "\n",
    "---\n",
    "**NOTE**\n",
    "\n",
    "   Rigorously, for the probabilistic guarantee to hold, the calibration subset\n",
    "   needs to be resampled for each new example in the test set.\n",
    "\n",
    "---\n",
    "\n",
    "\n",
    "In addition to data preprocessing, the following code implements the aforementioned steps:"
   ]
  },
  {
   "cell_type": "code",
   "execution_count": 9,
   "id": "2d5c87be",
   "metadata": {},
   "outputs": [],
   "source": [
    "from tensorflow.keras.datasets import mnist\n",
    "from tensorflow.keras.utils import to_categorical\n",
    "\n",
    "# Load MNIST Database\n",
    "(X_train, y_train), (X_test, y_test) = mnist.load_data()\n",
    "\n",
    "# Preprocessing: reshaping and standardization\n",
    "X_train = X_train.reshape((len(X_train), 28, 28))\n",
    "X_train = X_train.astype('float32') / 255\n",
    "X_test = X_test.reshape((len(X_test), 28 , 28))\n",
    "X_test = X_test.astype('float32') / 255\n",
    "\n",
    "# Split fit and calib datasets\n",
    "X_fit, X_calib  = X_train[:50000], X_train[50000:]\n",
    "y_fit, y_calib  = y_train[:50000], y_train[50000:]\n",
    "\n",
    "# One hot encoding of classes\n",
    "y_fit_cat = to_categorical(y_fit)\n",
    "y_calib_cat = to_categorical(y_calib)\n",
    "y_test_cat = to_categorical(y_test)"
   ]
  },
  {
   "attachments": {},
   "cell_type": "markdown",
   "id": "027c4d98",
   "metadata": {},
   "source": [
    "### 🔮 Prediction model <a class=\"anchor\" id=\"cc-pm\"></a>\n",
    "\n",
    "We consider a convnet defined as follows:"
   ]
  },
  {
   "cell_type": "code",
   "execution_count": 10,
   "id": "739e5a49",
   "metadata": {},
   "outputs": [],
   "source": [
    "from tensorflow import random\n",
    "from tensorflow import keras\n",
    "from tensorflow.keras import layers\n",
    "\n",
    "random.set_seed(0)\n",
    "keras.utils.set_random_seed(0)\n",
    "\n",
    "# Classification model: convnet composed of two convolution/pooling layers\n",
    "# and a dense output layer\n",
    "nn_model = keras.Sequential(\n",
    "   [\n",
    "      keras.Input(shape=(28, 28, 1)),\n",
    "      layers.Conv2D(16, kernel_size=(3, 3), activation=\"relu\"),\n",
    "      layers.MaxPooling2D(pool_size=(2, 2)),\n",
    "      layers.Conv2D(32, kernel_size=(3, 3), activation=\"relu\"),\n",
    "      layers.MaxPooling2D(pool_size=(2, 2)),\n",
    "      layers.Flatten(),\n",
    "      layers.Dense(10, activation=\"softmax\"),\n",
    "   ]\n",
    ")"
   ]
  },
  {
   "attachments": {},
   "cell_type": "markdown",
   "id": "a3c48241",
   "metadata": {},
   "source": [
    "For the convnet above, we use `deel.puncc.api.prediction.BasePredictor` as wrapper. Note that our model is not already trained (`is_trained = False`), we need to provide the compilation config to the constructor:"
   ]
  },
  {
   "cell_type": "code",
   "execution_count": 11,
   "id": "b3a763cc",
   "metadata": {},
   "outputs": [],
   "source": [
    "from deel.puncc.api.prediction import BasePredictor\n",
    "\n",
    "# The compilation details are gathered in a dictionnary\n",
    "compile_kwargs = {\"optimizer\":\"adam\", \"loss\":\"categorical_crossentropy\",\"metrics\":[\"accuracy\"]}\n",
    "\n",
    "# Create a predictor to wrap the convnet model defined earlier\n",
    "class_predictor = BasePredictor(nn_model, is_trained=False, **compile_kwargs)"
   ]
  },
  {
   "attachments": {},
   "cell_type": "markdown",
   "id": "f0fdfb0d",
   "metadata": {},
   "source": [
    "### ⚙️ Conformal Prediction <a class=\"anchor\" id=\"cc-cp\"></a>\n",
    "\n",
    "The RAPS procedure is chosen to conformalize our convnet classifier. Such algorithm has two hyparameters $\\lambda$ and $k_{reg}$ that encourage smaller prediction sets.\n",
    "\n",
    "To start off gently, we will ignore the regularization term ($\\lambda=0$), which simply turns the procedure into APS:"
   ]
  },
  {
   "cell_type": "code",
   "execution_count": 12,
   "id": "fb66d29b",
   "metadata": {},
   "outputs": [
    {
     "name": "stdout",
     "output_type": "stream",
     "text": [
      "Epoch 1/2\n",
      "176/176 [==============================] - 14s 77ms/step - loss: 0.6308 - accuracy: 0.8323 - val_loss: 0.2383 - val_accuracy: 0.9274\n",
      "Epoch 2/2\n",
      "176/176 [==============================] - 14s 77ms/step - loss: 0.1707 - accuracy: 0.9492 - val_loss: 0.1518 - val_accuracy: 0.9530\n",
      "313/313 [==============================] - 1s 3ms/step\n",
      "313/313 [==============================] - 1s 4ms/step\n"
     ]
    }
   ],
   "source": [
    "from deel.puncc.classification import RAPS\n",
    "\n",
    "# Coverage target is 1-alpha = 90%\n",
    "alpha = .1\n",
    "\n",
    "# Instanciate the RAPS wrapper around the convnet predictor.\n",
    "# The `train` argument is set to True such that the convnet model is trained\n",
    "# before the calibration. You can initialize it to False if the model is\n",
    "# already trained and you want to save time.\n",
    "aps_cp = RAPS(class_predictor, lambd=0, train=True)\n",
    "\n",
    "# The train details of the convnet are gathered in a dictionnary\n",
    "fit_kwargs = {\"epochs\":2, \"batch_size\":256, \"validation_split\": .1, \"verbose\":1}\n",
    "\n",
    "# Train model (argument `train` is True) on the fitting dataset (w.r.t. the fit config)\n",
    "# and compute the residuals on the calibration dataset.\n",
    "aps_cp.fit(X_fit=X_fit, y_fit=y_fit_cat, X_calib=X_calib, y_calib=y_calib, **fit_kwargs)\n",
    "\n",
    "# The `predict` returns the output of the convnet model `y_pred` and\n",
    "# the calibrated prediction set `set_pred`.\n",
    "y_pred, set_pred = aps_cp.predict(X_test, alpha=alpha)"
   ]
  },
  {
   "attachments": {},
   "cell_type": "markdown",
   "id": "ae842f7d",
   "metadata": {},
   "source": [
    "Let's visualize an example of point prediction and set prediction."
   ]
  },
  {
   "cell_type": "code",
   "execution_count": 13,
   "id": "3db6e674",
   "metadata": {},
   "outputs": [
    {
     "data": {
      "image/png": "[encoded data removed]",
      "text/plain": [
       "<Figure size 640x480 with 1 Axes>"
      ]
     },
     "metadata": {},
     "output_type": "display_data"
    }
   ],
   "source": [
    "import matplotlib.pyplot as plt\n",
    "\n",
    "sample = 18\n",
    "\n",
    "plt.imshow(X_test[sample].reshape((28,28)))\n",
    "_ = plt.title(f\"Point prediction: {np.argmax(y_pred[sample])} \\n Prediction set: {set_pred[sample]}\")\n",
    "_ = plt.xticks([])\n",
    "_ = plt.yticks([])"
   ]
  },
  {
   "attachments": {},
   "cell_type": "markdown",
   "id": "6781fcee",
   "metadata": {},
   "source": [
    "Our library provides several metrics in `deel.puncc.metrics` to evaluate the conformalization procedure. Below, we compute the average empirical coverage and the average empirical size of the prediction sets on the test examples:"
   ]
  },
  {
   "cell_type": "code",
   "execution_count": 14,
   "id": "89dbd478",
   "metadata": {},
   "outputs": [
    {
     "name": "stdout",
     "output_type": "stream",
     "text": [
      "Empirical coverage : 0.90\n",
      "Average set size : 1.03\n"
     ]
    }
   ],
   "source": [
    "from deel.puncc import metrics\n",
    "\n",
    "mean_coverage = metrics.classification_mean_coverage(y_test, set_pred)\n",
    "mean_size = metrics.classification_mean_size(set_pred)\n",
    "\n",
    "print(f\"Empirical coverage : {mean_coverage:.2f}\")\n",
    "print(f\"Average set size : {mean_size:.2f}\")"
   ]
  },
  {
   "attachments": {},
   "cell_type": "markdown",
   "id": "ed413268",
   "metadata": {},
   "source": [
    "# 🎉 Congratulations\n",
    "**You are now familiar with basics of conformal prediction with puncc !**\n",
    "\n",
    "To go further, check the [**API tutorial**](api_intro.ipynb) to build your own conformal prediction algorithms !"
   ]
  }
 ],
 "metadata": {
  "kernelspec": {
   "display_name": "punc-user-env",
   "language": "python",
   "name": "python3"
  },
  "language_info": {
   "codemirror_mode": {
    "name": "ipython",
    "version": 3
   },
   "file_extension": ".py",
   "mimetype": "text/x-python",
   "name": "python",
   "nbconvert_exporter": "python",
   "pygments_lexer": "ipython3",
   "version": "3.9.7"
  },
  "latex_envs": {
   "LaTeX_envs_menu_present": true,
   "autoclose": false,
   "autocomplete": true,
   "bibliofile": "biblio.bib",
   "cite_by": "apalike",
   "current_citInitial": 1,
   "eqLabelWithNumbers": true,
   "eqNumInitial": 1,
   "hotkeys": {
    "equation": "Ctrl-E",
    "itemize": "Ctrl-I"
   },
   "labels_anchors": false,
   "latex_user_defs": false,
   "report_style_numbering": false,
   "user_envs_cfg": false
  }
 },
 "nbformat": 4,
 "nbformat_minor": 5
}
